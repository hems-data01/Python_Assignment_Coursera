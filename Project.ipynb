{
  "metadata": {
    "kernelspec": {
      "name": "python",
      "display_name": "Python (Pyodide)",
      "language": "python"
    },
    "language_info": {
      "codemirror_mode": {
        "name": "python",
        "version": 3
      },
      "file_extension": ".py",
      "mimetype": "text/x-python",
      "name": "python",
      "nbconvert_exporter": "python",
      "pygments_lexer": "ipython3",
      "version": "3.8"
    }
  },
  "nbformat_minor": 4,
  "nbformat": 4,
  "cells": [
    {
      "cell_type": "markdown",
      "source": "# Data Science Final Project Notebook\r\n",
      "metadata": {}
    },
    {
      "cell_type": "markdown",
      "source": "## Introduction\r\n\r\nWelcome to the Data Science Final Project Notebook! In this notebook, we will explore various aspects of data science, including programming languages, libraries, and tools commonly used in the field. Let's dive in!\r\n",
      "metadata": {}
    },
    {
      "cell_type": "code",
      "source": "## Data Science Languages\n\n- Python\n- R\n- SQL\n",
      "metadata": {
        "trusted": true
      },
      "outputs": [],
      "execution_count": null
    },
    {
      "cell_type": "code",
      "source": "## Data Science Libraries\n\n- Pandas\n- NumPy\n- Matplotlib\n- Scikit-learn\n",
      "metadata": {
        "trusted": true
      },
      "outputs": [],
      "execution_count": null
    },
    {
      "cell_type": "code",
      "source": "## Data Science Tools\n\n| Tool Name      | Description                                  |\n|----------------|----------------------------------------------|\n| Jupyter Notebook | Interactive computing and data analysis     |\n| TensorFlow     | Open-source machine learning framework       |\n| PyTorch        | Deep learning library                        |\n| Tableau        | Data visualization software                   |\n",
      "metadata": {
        "trusted": true
      },
      "outputs": [],
      "execution_count": null
    },
    {
      "cell_type": "code",
      "source": "## Arithmetic Expression Examples\n\nArithmetic expressions are fundamental in data science for performing mathematical operations on data. In this section, we'll explore some examples of arithmetic expressions.\n",
      "metadata": {
        "trusted": true
      },
      "outputs": [],
      "execution_count": null
    },
    {
      "cell_type": "code",
      "source": "# Code Cell\n# Multiply and add numbers\na = 5\nb = 3\nresult_multiply = a * b\nresult_addition = a + b\nprint(\"Multiplication result:\", result_multiply)\nprint(\"Addition result:\", result_addition)\n",
      "metadata": {
        "trusted": true
      },
      "outputs": [],
      "execution_count": null
    },
    {
      "cell_type": "code",
      "source": "# Code Cell\n# Convert minutes to hours\nminutes = 120\nhours = minutes / 60\nprint(\"120 minutes =\", hours, \"hours\")\n",
      "metadata": {
        "trusted": true
      },
      "outputs": [],
      "execution_count": null
    },
    {
      "cell_type": "code",
      "source": "## Objectives\n\n- Introduce data science concepts and tools\n- Demonstrate arithmetic expression examples\n- Explore data manipulation and analysis techniques\n",
      "metadata": {
        "trusted": true
      },
      "outputs": [],
      "execution_count": null
    },
    {
      "cell_type": "code",
      "source": "## Author\n\n- Hemanth A R\n",
      "metadata": {
        "trusted": true
      },
      "outputs": [],
      "execution_count": null
    },
    {
      "cell_type": "code",
      "source": "",
      "metadata": {
        "trusted": true
      },
      "outputs": [],
      "execution_count": null
    }
  ]
}